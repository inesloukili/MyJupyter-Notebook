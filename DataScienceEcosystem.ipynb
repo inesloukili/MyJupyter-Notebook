{
 "cells": [
  {
   "cell_type": "markdown",
   "id": "9583f9fa-03d0-4f94-9b85-056ef6233966",
   "metadata": {},
   "source": [
    "# Data Science Tools and Ecosystem"
   ]
  },
  {
   "cell_type": "markdown",
   "id": "974e94b8-4dc3-4558-b28c-fb3908a8c38f",
   "metadata": {},
   "source": [
    "In this notebook, Data Science Tools and Ecosystem are summarized."
   ]
  },
  {
   "cell_type": "markdown",
   "id": "fb9e6b29-3103-4c3d-81f8-04e96e160f27",
   "metadata": {},
   "source": [
    "# *Objectives:*\n",
    "- List popular languages for Data Science\r\n",
    "-List libraries used by Data Scientists2\r\n",
    "List Data Science Tools\n",
    "- List few examples of evaluating arithmetic expressions in Python\n",
    " 3\r\n",
    "\n"
   ]
  },
  {
   "cell_type": "markdown",
   "id": "f80e0f0e-b262-46c3-8034-71a3746914f8",
   "metadata": {},
   "source": [
    "Some of the popular languages that Data Scientists use are:\n",
    "1.Python\n",
    "2.R\n",
    "3.SOL\n",
    "4.Julia"
   ]
  },
  {
   "cell_type": "markdown",
   "id": "264bcc18-8635-443b-b4ed-7f2a73288c6b",
   "metadata": {},
   "source": [
    "Some of the commonly used libraries used by Data Scientists include:\n",
    "1.Scipy\n",
    "2.Numpy\n",
    "3.Seaborn \n",
    "4.Matplotlib\n",
    "5.scikit-learn"
   ]
  },
  {
   "cell_type": "markdown",
   "id": "d34b17fd-2e78-44e7-beef-005d0f656218",
   "metadata": {},
   "source": [
    "| Data Science Tools  |\r\n",
    "|---------------------|\r\n",
    "| Jupyter Notebook    |\r\n",
    "| Apache Spark        |\r\n",
    "| Hadoop              |\r\n",
    "  |\r\n"
   ]
  },
  {
   "cell_type": "markdown",
   "id": "b5818477-ce0a-4a6f-8b65-cb3e7b2f83e5",
   "metadata": {},
   "source": [
    "### Below are a few examples of evaluating arithmetic expressions in Python  |\r\n"
   ]
  },
  {
   "cell_type": "code",
   "execution_count": 14,
   "id": "09ae2a4c-4017-4a1c-852e-0c4310894484",
   "metadata": {},
   "outputs": [
    {
     "data": {
      "text/plain": [
       "17"
      ]
     },
     "execution_count": 14,
     "metadata": {},
     "output_type": "execute_result"
    }
   ],
   "source": [
    "#This a simple arithmetic expression to mutiply then add integers\n",
    "(3*4)+5"
   ]
  },
  {
   "cell_type": "code",
   "execution_count": 30,
   "id": "d94297a9-12a6-484f-a1e6-8d124532e5d1",
   "metadata": {},
   "outputs": [
    {
     "data": {
      "text/plain": [
       "3.3333333333333335"
      ]
     },
     "execution_count": 30,
     "metadata": {},
     "output_type": "execute_result"
    }
   ],
   "source": [
    "#This will convert 200 minutes to hours by diving by 60\n",
    "200 / 60"
   ]
  },
  {
   "cell_type": "markdown",
   "id": "81d16740-82bb-4444-9550-137a1f9baf7c",
   "metadata": {},
   "source": [
    "## Author\n",
    "Kdim Inas"
   ]
  }
 ],
 "metadata": {
  "kernelspec": {
   "display_name": "Python 3 (ipykernel)",
   "language": "python",
   "name": "python3"
  },
  "language_info": {
   "codemirror_mode": {
    "name": "ipython",
    "version": 3
   },
   "file_extension": ".py",
   "mimetype": "text/x-python",
   "name": "python",
   "nbconvert_exporter": "python",
   "pygments_lexer": "ipython3",
   "version": "3.12.4"
  }
 },
 "nbformat": 4,
 "nbformat_minor": 5
}
